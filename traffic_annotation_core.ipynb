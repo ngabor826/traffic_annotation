{
 "cells": [
  {
   "cell_type": "code",
   "execution_count": 7,
   "id": "cc8412a9",
   "metadata": {},
   "outputs": [],
   "source": [
    "import pandas as pd\n",
    "import json\n",
    "import textdistance\n",
    "from nltk.tokenize import word_tokenize\n",
    "from nltk.corpus import stopwords"
   ]
  },
  {
   "cell_type": "code",
   "execution_count": 2,
   "id": "273102a7",
   "metadata": {},
   "outputs": [],
   "source": [
    "data_path = '/home/bence/skool/2nd_semester/nlp/traffic_annotation/'\n",
    "df = pd.read_excel(data_path + 'NLP projekt.xlsx')\n",
    "# df = df['Corpus']\n",
    "df = df.dropna()"
   ]
  },
  {
   "cell_type": "markdown",
   "id": "fc08c073",
   "metadata": {},
   "source": [
    "# Utility functions"
   ]
  },
  {
   "cell_type": "code",
   "execution_count": 8,
   "id": "44ca7c2f",
   "metadata": {},
   "outputs": [],
   "source": [
    "replacements = {\n",
    "    \"Á\": \"A\",\n",
    "    \"É\": \"E\",\n",
    "    \"á\": \"a\",\n",
    "    \"é\": \"e\",\n",
    "    \"í\": \"i\",\n",
    "    \"Ó\": \"O\",\n",
    "    \"ó\": \"o\",\n",
    "    \"Ö\": \"O\",\n",
    "    \"ö\": \"o\",\n",
    "    \"Ő\": \"O\",\n",
    "    \"ő\": \"o\",\n",
    "    \"Ú\": \"U\",\n",
    "    \"ú\": \"u\",\n",
    "    \"Ű\": \"U\",\n",
    "    \"ű\": \"u\",\n",
    "    \"ü\": \"u\",\n",
    "    \"Í\": \"I\"\n",
    "}\n",
    "\n",
    "def clean_text_accents(text, replacements=replacements):\n",
    "    text = \"\".join([replacements.get(c, c) for c in text])\n",
    "    return text"
   ]
  },
  {
   "cell_type": "code",
   "execution_count": 9,
   "id": "fe8b20ca",
   "metadata": {},
   "outputs": [],
   "source": [
    "def get_city_name_from_text(input_str):\n",
    "    cities_list = []\n",
    "    for word in word_tokenize(input_str):\n",
    "        if word[0].isupper() == True and word not in cities_list:\n",
    "            cities_list.append(word)\n",
    "    if len(cities_list) == 1:\n",
    "        return cities_list[0]\n",
    "    else:\n",
    "        print(\"Warning! There is more than 1 city name in the input\")\n",
    "        print(cities_list)\n",
    "        return cities_list\n",
    "\n",
    "## test\n",
    "# get_city_name_from_text('pisztolyosok Kolozsvaron az operanal')"
   ]
  },
  {
   "cell_type": "code",
   "execution_count": 10,
   "id": "453cee38",
   "metadata": {},
   "outputs": [],
   "source": [
    "def get_city_name_list_from_dict(cities_dict):\n",
    "    i = 0\n",
    "    city_names = []\n",
    "    for key, value in cities_dict.items():\n",
    "        city = cities_dict[key]['name_hun']\n",
    "        city_names.append(city)\n",
    "\n",
    "        i += 1\n",
    "        \n",
    "    print(\"Extracted %d names\" % i)\n",
    "    return city_names"
   ]
  },
  {
   "cell_type": "code",
   "execution_count": 11,
   "id": "a6d5969d",
   "metadata": {},
   "outputs": [],
   "source": [
    "def lookup_closest_str(input_str, lookup_list):\n",
    "    min_dist = 999\n",
    "    closest_str = ''\n",
    "    for elem in lookup_list:\n",
    "        dist = textdistance.levenshtein(elem, input_str)\n",
    "\n",
    "        if dist < min_dist:\n",
    "            min_dist = dist\n",
    "            closest_str = elem\n",
    "    return closest_str"
   ]
  },
  {
   "cell_type": "code",
   "execution_count": 4,
   "id": "a7ea1a8c",
   "metadata": {},
   "outputs": [
    {
     "name": "stdout",
     "output_type": "stream",
     "text": [
      " cities_coords1.json       'NLP projekt.xlsx'          traffic.ipynb\r\n",
      " cities_coords_clean.json   README.md\r\n",
      " cities_coords.json         traffic_annotation.ipynb\r\n"
     ]
    }
   ],
   "source": [
    "%ls"
   ]
  },
  {
   "cell_type": "markdown",
   "id": "9096e0fd",
   "metadata": {},
   "source": [
    "## Get data"
   ]
  },
  {
   "cell_type": "code",
   "execution_count": 12,
   "id": "3cc0b601",
   "metadata": {},
   "outputs": [],
   "source": [
    "# get hungarian stopwords and clean accents from them\n",
    "hun_stopwords = stopwords.words('hungarian')\n",
    "hun_stopwords = [clean_text_accents(w,replacements=replacements) for w in hun_stopwords]\n",
    "\n",
    "# JSON with cities\n",
    "with open('cities_hu_coords.json', encoding='UTF-8') as f:\n",
    "    cities_dict = json.load(f)"
   ]
  },
  {
   "cell_type": "code",
   "execution_count": 14,
   "id": "f55670b2",
   "metadata": {},
   "outputs": [],
   "source": [
    "cities_dict;"
   ]
  },
  {
   "cell_type": "code",
   "execution_count": 11,
   "id": "a21a4355",
   "metadata": {},
   "outputs": [
    {
     "name": "stdout",
     "output_type": "stream",
     "text": [
      "Extracted 1047 names\n"
     ]
    }
   ],
   "source": [
    "city_names = get_city_name_list_from_dict(cities_dict)"
   ]
  },
  {
   "cell_type": "code",
   "execution_count": 56,
   "id": "f4489e8f",
   "metadata": {},
   "outputs": [
    {
     "data": {
      "text/plain": [
       "'Kolozsvar'"
      ]
     },
     "execution_count": 56,
     "metadata": {},
     "output_type": "execute_result"
    }
   ],
   "source": [
    "lookup_closest_str('Kolszovar', city_names)"
   ]
  },
  {
   "cell_type": "code",
   "execution_count": 88,
   "id": "50f59908",
   "metadata": {},
   "outputs": [],
   "source": [
    "test_text = 'piszolyosok a Kolozsvaron az opera melletti kis utcaban'"
   ]
  },
  {
   "cell_type": "markdown",
   "id": "c453629e",
   "metadata": {},
   "source": [
    "## Get location coords from text"
   ]
  },
  {
   "cell_type": "code",
   "execution_count": 108,
   "id": "06af3cfa",
   "metadata": {},
   "outputs": [],
   "source": [
    "def extract_coords_from_text(input_str, city_names, verbose=False):\n",
    "    city_name_raw = get_city_name_from_text(input_str)\n",
    "    city_name = lookup_closest_str(city_name_raw, city_names)\n",
    "    \n",
    "    if verbose:\n",
    "        print(\"Found city name in string: \" + city_name)\n",
    "\n",
    "    coord_x = cities_dict[city_name]['coords_x']\n",
    "    coord_y = cities_dict[city_name]['coords_y']\n",
    "\n",
    "    # NOTE: lehet hogy a koordinatakat fel kell cserelni ahhoz, hogy jo helyre tegye a pin-t\n",
    "    if verbose:\n",
    "        print(\"Coords of {}: {}, {}\".format(city_name, coord_x, coord_y))\n",
    "    \n",
    "    return [coord_x, coord_y]"
   ]
  },
  {
   "cell_type": "code",
   "execution_count": 109,
   "id": "b5d5e2eb",
   "metadata": {},
   "outputs": [
    {
     "name": "stdout",
     "output_type": "stream",
     "text": [
      "Found city name in string: Kolozsvar\n",
      "Coords of Kolozsvar: 23.605117571992587, 46.777913902590704\n"
     ]
    },
    {
     "data": {
      "text/plain": [
       "[23.605117571992587, 46.777913902590704]"
      ]
     },
     "execution_count": 109,
     "metadata": {},
     "output_type": "execute_result"
    }
   ],
   "source": [
    "extract_coords_from_text(test_text, city_names, verbose=True)"
   ]
  },
  {
   "cell_type": "markdown",
   "id": "8a1b7a6d",
   "metadata": {},
   "source": [
    "## Get event from text"
   ]
  },
  {
   "cell_type": "code",
   "execution_count": 118,
   "id": "00fda13b",
   "metadata": {},
   "outputs": [
    {
     "data": {
      "text/plain": [
       "'medve'"
      ]
     },
     "execution_count": 118,
     "metadata": {},
     "output_type": "execute_result"
    }
   ],
   "source": [
    "# event names\n",
    "events = [\n",
    "    'baleset',\n",
    "    'dugo',\n",
    "    'torlodas',\n",
    "    'medve',\n",
    "    'maci',\n",
    "    'radar',\n",
    "    'rendor',\n",
    "    'pisztolyos'\n",
    "]\n",
    "lookup_closest_str('mexdve', events)"
   ]
  },
  {
   "cell_type": "code",
   "execution_count": 124,
   "id": "e50db229",
   "metadata": {},
   "outputs": [
    {
     "data": {
      "text/plain": [
       "['piszolyosok', 'Kolozsvaron', 'opera', 'melletti', 'kis', 'utcaban']"
      ]
     },
     "execution_count": 124,
     "metadata": {},
     "output_type": "execute_result"
    }
   ],
   "source": [
    "words = word_tokenize(test_text)\n",
    "words = [w for w in words if w not in hun_stopwords]\n",
    "words"
   ]
  },
  {
   "cell_type": "code",
   "execution_count": 140,
   "id": "1344745d",
   "metadata": {},
   "outputs": [],
   "source": [
    "def extract_event_from_text(input_str, events):\n",
    "    words = word_tokenize(input_str)\n",
    "    words = [w for w in words if w not in hun_stopwords]\n",
    "    \n",
    "    event_in_txt = ''\n",
    "    min_dist = 99999\n",
    "\n",
    "    for word in words:\n",
    "#         print(word)\n",
    "\n",
    "        inner_dict = {}\n",
    "        for elem in events:\n",
    "            dist = textdistance.levenshtein(elem, word)\n",
    "            inner_dict[elem] = dist\n",
    "\n",
    "    #         print('event_in_txt: ' + event_in_txt)\n",
    "    #         print('min_dist = %d, dist = %d' % (min_dist, dist))\n",
    "\n",
    "            if dist < min_dist:\n",
    "                min_dist = dist\n",
    "                event_in_txt = elem\n",
    "\n",
    "    #     words_dict[word] = inner_dict\n",
    "\n",
    "#     print('\\nfound event: ' + event_in_txt)\n",
    "    \n",
    "    return event_in_txt"
   ]
  },
  {
   "cell_type": "code",
   "execution_count": 141,
   "id": "d2b60588",
   "metadata": {},
   "outputs": [
    {
     "data": {
      "text/plain": [
       "'pisztolyos'"
      ]
     },
     "execution_count": 141,
     "metadata": {},
     "output_type": "execute_result"
    }
   ],
   "source": [
    "extract_event_from_text(test_text, events)"
   ]
  },
  {
   "cell_type": "markdown",
   "id": "261e614c",
   "metadata": {},
   "source": [
    "# Put event+coords from text into dataFrame"
   ]
  },
  {
   "cell_type": "code",
   "execution_count": 158,
   "id": "7d394144",
   "metadata": {},
   "outputs": [
    {
     "name": "stdout",
     "output_type": "stream",
     "text": [
      "pisztolyos [23.605117571992587, 46.777913902590704]\n"
     ]
    }
   ],
   "source": [
    "test_text = 'piszolyosok Kolozsvaron az opera melletti kis utcaban'\n",
    "coords = extract_coords_from_text(test_text, city_names)\n",
    "event = extract_event_from_text(test_text, events)\n",
    "\n",
    "print(event, coords)"
   ]
  },
  {
   "cell_type": "code",
   "execution_count": 183,
   "id": "41b14857",
   "metadata": {},
   "outputs": [],
   "source": [
    "df = pd.DataFrame(columns=['event', 'x_coord', 'y_coord'])"
   ]
  },
  {
   "cell_type": "code",
   "execution_count": 185,
   "id": "0c955ede",
   "metadata": {},
   "outputs": [],
   "source": [
    "def put_data_from_text_into_df(input_text, df, city_names=city_names, events=events):\n",
    "    coords = extract_coords_from_text(input_text, city_names)\n",
    "    event = extract_event_from_text(input_text, events)\n",
    "    \n",
    "    print(event, coords)\n",
    "    \n",
    "    row = {\n",
    "        'event': event,\n",
    "        'x_coord': coords[0],\n",
    "        'y_coord': coords[1]\n",
    "    }\n",
    "    \n",
    "    print(row)\n",
    "    \n",
    "    df = df.append(row, ignore_index=True)\n",
    "    return df"
   ]
  },
  {
   "cell_type": "code",
   "execution_count": 186,
   "id": "f6af5bd4",
   "metadata": {},
   "outputs": [
    {
     "name": "stdout",
     "output_type": "stream",
     "text": [
      "pisztolyos [23.605117571992587, 46.777913902590704]\n",
      "{'event': 'pisztolyos', 'x_coord': 23.605117571992587, 'y_coord': 46.777913902590704}\n"
     ]
    }
   ],
   "source": [
    "df = put_data_from_text_into_df(test_text, df, city_names=city_names, events=events)"
   ]
  },
  {
   "cell_type": "code",
   "execution_count": 190,
   "id": "c44ced72",
   "metadata": {},
   "outputs": [],
   "source": [
    "# save to .csv\n",
    "df.to_csv('event_coords_data.csv')"
   ]
  },
  {
   "cell_type": "code",
   "execution_count": 191,
   "id": "ab59e04a",
   "metadata": {},
   "outputs": [
    {
     "name": "stdout",
     "output_type": "stream",
     "text": [
      " cities_coords1.json\t    event_coords_data.csv   traffic_annotation.ipynb\r\n",
      " cities_coords_clean.json  'NLP projekt.xlsx'\t    traffic.ipynb\r\n",
      " cities_coords.json\t    README.md\r\n"
     ]
    }
   ],
   "source": [
    "!ls"
   ]
  },
  {
   "cell_type": "code",
   "execution_count": null,
   "id": "3ea1113b",
   "metadata": {},
   "outputs": [],
   "source": []
  }
 ],
 "metadata": {
  "kernelspec": {
   "display_name": "Python 3",
   "language": "python",
   "name": "python3"
  },
  "language_info": {
   "codemirror_mode": {
    "name": "ipython",
    "version": 3
   },
   "file_extension": ".py",
   "mimetype": "text/x-python",
   "name": "python",
   "nbconvert_exporter": "python",
   "pygments_lexer": "ipython3",
   "version": "3.8.5"
  }
 },
 "nbformat": 4,
 "nbformat_minor": 5
}